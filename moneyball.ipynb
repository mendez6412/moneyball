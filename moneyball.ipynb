{
 "cells": [
  {
   "cell_type": "markdown",
   "metadata": {},
   "source": [
    "# Moneyball\n",
    "## Module Import and CSV Reading"
   ]
  },
  {
   "cell_type": "code",
   "execution_count": 3,
   "metadata": {
    "collapsed": true
   },
   "outputs": [],
   "source": [
    "import numpy as np\n",
    "import pandas as pd\n",
    "from pandas import DataFrame, Series"
   ]
  },
  {
   "cell_type": "code",
   "execution_count": 5,
   "metadata": {
    "collapsed": false
   },
   "outputs": [],
   "source": [
    "titles = ['playerID', 'yearID', 'stint', 'teamID', 'lgID', 'R', 'H', 'RBI', 'BB', 'HBP', 'SF', 'AB']\n",
    "batting = pd.read_csv('Data/Batting.csv', usecols=titles)"
   ]
  },
  {
   "cell_type": "markdown",
   "metadata": {},
   "source": [
    "### Removing NaNs from Important Fields"
   ]
  },
  {
   "cell_type": "code",
   "execution_count": 6,
   "metadata": {
    "collapsed": false
   },
   "outputs": [],
   "source": [
    "batting['SF'] = batting['SF'].fillna(0)\n",
    "batting['HBP'] = batting['HBP'].fillna(0)"
   ]
  },
  {
   "cell_type": "code",
   "execution_count": 7,
   "metadata": {
    "collapsed": false
   },
   "outputs": [],
   "source": [
    "master_titles=['playerID', 'nameFirst', 'nameLast', 'nameGiven', 'weight', 'height', 'bats', 'throws', 'finalGame']\n",
    "master = pd.read_csv('Data/Master.csv', usecols=master_titles)"
   ]
  },
  {
   "cell_type": "code",
   "execution_count": 8,
   "metadata": {
    "collapsed": true
   },
   "outputs": [],
   "source": [
    "salary_titles=['yearID', 'playerID', 'salary']\n",
    "salary = pd.read_csv('Data/Salaries.csv', usecols=salary_titles)"
   ]
  },
  {
   "cell_type": "code",
   "execution_count": 9,
   "metadata": {
    "collapsed": false
   },
   "outputs": [],
   "source": [
    "appearances = pd.read_csv('Data/Appearances.csv')"
   ]
  },
  {
   "cell_type": "markdown",
   "metadata": {},
   "source": [
    "### Merging DataFrames"
   ]
  },
  {
   "cell_type": "code",
   "execution_count": 10,
   "metadata": {
    "collapsed": false
   },
   "outputs": [],
   "source": [
    "batting_master = batting.merge(master, on=['playerID'])"
   ]
  },
  {
   "cell_type": "code",
   "execution_count": 11,
   "metadata": {
    "collapsed": false
   },
   "outputs": [],
   "source": [
    "batting_master_salary = batting_master.merge(salary, on=['playerID', 'yearID'])"
   ]
  },
  {
   "cell_type": "code",
   "execution_count": 12,
   "metadata": {
    "collapsed": false
   },
   "outputs": [],
   "source": [
    "final = batting_master_salary.merge(appearances, on=['playerID', 'yearID'])"
   ]
  },
  {
   "cell_type": "markdown",
   "metadata": {},
   "source": [
    "### Finding 2015-season Players"
   ]
  },
  {
   "cell_type": "code",
   "execution_count": 13,
   "metadata": {
    "collapsed": false
   },
   "outputs": [],
   "source": [
    "playerlist2015 = final[final['yearID'] == 2015]"
   ]
  },
  {
   "cell_type": "code",
   "execution_count": 16,
   "metadata": {
    "collapsed": false
   },
   "outputs": [],
   "source": [
    "players = playerlist2015"
   ]
  },
  {
   "cell_type": "markdown",
   "metadata": {},
   "source": [
    "### Finding On-Base-Percentage and Creating New Series"
   ]
  },
  {
   "cell_type": "code",
   "execution_count": 17,
   "metadata": {
    "collapsed": false,
    "scrolled": true
   },
   "outputs": [
    {
     "name": "stderr",
     "output_type": "stream",
     "text": [
      "/Users/tmendez/Documents/tiy/week3/.direnv/python-3.5.1/lib/python3.5/site-packages/ipykernel/__main__.py:4: SettingWithCopyWarning: \n",
      "A value is trying to be set on a copy of a slice from a DataFrame.\n",
      "Try using .loc[row_indexer,col_indexer] = value instead\n",
      "\n",
      "See the caveats in the documentation: http://pandas.pydata.org/pandas-docs/stable/indexing.html#indexing-view-versus-copy\n"
     ]
    }
   ],
   "source": [
    "numerator = players['H'] + players['BB'] + players['HBP']\n",
    "denominator = players['AB'] + players['BB'] + players['HBP'] + players['SF']\n",
    "OBP = numerator/denominator\n",
    "players['OBP'] = OBP"
   ]
  },
  {
   "cell_type": "markdown",
   "metadata": {},
   "source": [
    "### Finding OBP/Salary and Creating New Series"
   ]
  },
  {
   "cell_type": "code",
   "execution_count": 18,
   "metadata": {
    "collapsed": false
   },
   "outputs": [
    {
     "name": "stderr",
     "output_type": "stream",
     "text": [
      "/Users/tmendez/Documents/tiy/week3/.direnv/python-3.5.1/lib/python3.5/site-packages/ipykernel/__main__.py:2: SettingWithCopyWarning: \n",
      "A value is trying to be set on a copy of a slice from a DataFrame.\n",
      "Try using .loc[row_indexer,col_indexer] = value instead\n",
      "\n",
      "See the caveats in the documentation: http://pandas.pydata.org/pandas-docs/stable/indexing.html#indexing-view-versus-copy\n",
      "  from ipykernel import kernelapp as app\n"
     ]
    }
   ],
   "source": [
    "obp_per_salary = players['OBP']/players['salary']\n",
    "players['OBP Per Salary'] = obp_per_salary"
   ]
  },
  {
   "cell_type": "markdown",
   "metadata": {},
   "source": [
    "### Finding the Best Player by Position\n",
    "\n",
    "Note: Pitcher was slightly complicated as many had an OBP of 1.0 (outliers, as far as we are concerned).  My solution was to filter by games played at the position and \"at bats\".  "
   ]
  },
  {
   "cell_type": "code",
   "execution_count": 89,
   "metadata": {
    "collapsed": true
   },
   "outputs": [],
   "source": [
    "def get_best_player(df):\n",
    "    p_list = ['G_p', 'G_c', 'G_1b', 'G_2b', 'G_3b', 'G_ss', 'G_lf', 'G_cf', 'G_rf']\n",
    "    best = []\n",
    "    for item in p_list:\n",
    "        if item == 'G_p':\n",
    "            best.append(df[(df['G_p'] > 20) & (df['AB'] > 20)].sort(['OBP Per Salary'], ascending=False)[:1])\n",
    "        else:\n",
    "            best.append(df[df[item] > 50].sort(['OBP Per Salary'], ascending=False)[:1])\n",
    "    return best"
   ]
  },
  {
   "cell_type": "code",
   "execution_count": 94,
   "metadata": {
    "collapsed": false,
    "scrolled": true
   },
   "outputs": [
    {
     "name": "stderr",
     "output_type": "stream",
     "text": [
      "/Users/tmendez/Documents/tiy/week3/.direnv/python-3.5.1/lib/python3.5/site-packages/ipykernel/__main__.py:6: FutureWarning: sort(columns=....) is deprecated, use sort_values(by=.....)\n",
      "/Users/tmendez/Documents/tiy/week3/.direnv/python-3.5.1/lib/python3.5/site-packages/ipykernel/__main__.py:8: FutureWarning: sort(columns=....) is deprecated, use sort_values(by=.....)\n"
     ]
    }
   ],
   "source": [
    "best = get_best_player(players)"
   ]
  },
  {
   "cell_type": "code",
   "execution_count": 95,
   "metadata": {
    "collapsed": false
   },
   "outputs": [],
   "source": [
    "best_players = pd.concat(best)"
   ]
  },
  {
   "cell_type": "code",
   "execution_count": 96,
   "metadata": {
    "collapsed": false
   },
   "outputs": [],
   "source": [
    "p_list = ['Pitcher', 'Catcher', 'First Base', 'Second Base', 'Third Base', 'Shortstop', 'Left Field', 'Center Field', 'Right Field']\n",
    "best_players[\"Position\"] = Series(p_list, best_players.index)"
   ]
  },
  {
   "cell_type": "markdown",
   "metadata": {},
   "source": [
    "## Moneyball Team 2015"
   ]
  },
  {
   "cell_type": "code",
   "execution_count": 97,
   "metadata": {
    "collapsed": false
   },
   "outputs": [
    {
     "data": {
      "text/html": [
       "<div>\n",
       "<table border=\"1\" class=\"dataframe\">\n",
       "  <thead>\n",
       "    <tr style=\"text-align: right;\">\n",
       "      <th></th>\n",
       "      <th>nameFirst</th>\n",
       "      <th>nameLast</th>\n",
       "      <th>Position</th>\n",
       "      <th>AB</th>\n",
       "      <th>RBI</th>\n",
       "      <th>salary</th>\n",
       "      <th>OBP</th>\n",
       "      <th>OBP Per Salary</th>\n",
       "    </tr>\n",
       "  </thead>\n",
       "  <tbody>\n",
       "    <tr>\n",
       "      <th>32169</th>\n",
       "      <td>Michael</td>\n",
       "      <td>Wacha</td>\n",
       "      <td>Pitcher</td>\n",
       "      <td>52.0</td>\n",
       "      <td>4.0</td>\n",
       "      <td>520000</td>\n",
       "      <td>0.214286</td>\n",
       "      <td>4.120879e-07</td>\n",
       "    </tr>\n",
       "    <tr>\n",
       "      <th>32260</th>\n",
       "      <td>Roberto</td>\n",
       "      <td>Perez</td>\n",
       "      <td>Catcher</td>\n",
       "      <td>184.0</td>\n",
       "      <td>21.0</td>\n",
       "      <td>508600</td>\n",
       "      <td>0.348416</td>\n",
       "      <td>6.850497e-07</td>\n",
       "    </tr>\n",
       "    <tr>\n",
       "      <th>32212</th>\n",
       "      <td>C. J.</td>\n",
       "      <td>Cron</td>\n",
       "      <td>First Base</td>\n",
       "      <td>378.0</td>\n",
       "      <td>51.0</td>\n",
       "      <td>512500</td>\n",
       "      <td>0.300248</td>\n",
       "      <td>5.858500e-07</td>\n",
       "    </tr>\n",
       "    <tr>\n",
       "      <th>32257</th>\n",
       "      <td>Joe</td>\n",
       "      <td>Panik</td>\n",
       "      <td>Second Base</td>\n",
       "      <td>382.0</td>\n",
       "      <td>37.0</td>\n",
       "      <td>522500</td>\n",
       "      <td>0.377622</td>\n",
       "      <td>7.227223e-07</td>\n",
       "    </tr>\n",
       "    <tr>\n",
       "      <th>32217</th>\n",
       "      <td>Matt</td>\n",
       "      <td>Duffy</td>\n",
       "      <td>Third Base</td>\n",
       "      <td>573.0</td>\n",
       "      <td>77.0</td>\n",
       "      <td>509000</td>\n",
       "      <td>0.334426</td>\n",
       "      <td>6.570260e-07</td>\n",
       "    </tr>\n",
       "    <tr>\n",
       "      <th>31977</th>\n",
       "      <td>Xander</td>\n",
       "      <td>Bogaerts</td>\n",
       "      <td>Shortstop</td>\n",
       "      <td>613.0</td>\n",
       "      <td>81.0</td>\n",
       "      <td>543000</td>\n",
       "      <td>0.354839</td>\n",
       "      <td>6.534783e-07</td>\n",
       "    </tr>\n",
       "    <tr>\n",
       "      <th>31394</th>\n",
       "      <td>Brandon</td>\n",
       "      <td>Guyer</td>\n",
       "      <td>Left Field</td>\n",
       "      <td>332.0</td>\n",
       "      <td>28.0</td>\n",
       "      <td>515800</td>\n",
       "      <td>0.358639</td>\n",
       "      <td>6.953058e-07</td>\n",
       "    </tr>\n",
       "    <tr>\n",
       "      <th>31884</th>\n",
       "      <td>A. J.</td>\n",
       "      <td>Pollock</td>\n",
       "      <td>Center Field</td>\n",
       "      <td>609.0</td>\n",
       "      <td>76.0</td>\n",
       "      <td>519500</td>\n",
       "      <td>0.367013</td>\n",
       "      <td>7.064743e-07</td>\n",
       "    </tr>\n",
       "    <tr>\n",
       "      <th>32283</th>\n",
       "      <td>George</td>\n",
       "      <td>Springer</td>\n",
       "      <td>Right Field</td>\n",
       "      <td>388.0</td>\n",
       "      <td>41.0</td>\n",
       "      <td>512900</td>\n",
       "      <td>0.367483</td>\n",
       "      <td>7.164814e-07</td>\n",
       "    </tr>\n",
       "  </tbody>\n",
       "</table>\n",
       "</div>"
      ],
      "text/plain": [
       "      nameFirst  nameLast      Position     AB   RBI  salary       OBP  \\\n",
       "32169   Michael     Wacha       Pitcher   52.0   4.0  520000  0.214286   \n",
       "32260   Roberto     Perez       Catcher  184.0  21.0  508600  0.348416   \n",
       "32212     C. J.      Cron    First Base  378.0  51.0  512500  0.300248   \n",
       "32257       Joe     Panik   Second Base  382.0  37.0  522500  0.377622   \n",
       "32217      Matt     Duffy    Third Base  573.0  77.0  509000  0.334426   \n",
       "31977    Xander  Bogaerts     Shortstop  613.0  81.0  543000  0.354839   \n",
       "31394   Brandon     Guyer    Left Field  332.0  28.0  515800  0.358639   \n",
       "31884     A. J.   Pollock  Center Field  609.0  76.0  519500  0.367013   \n",
       "32283    George  Springer   Right Field  388.0  41.0  512900  0.367483   \n",
       "\n",
       "       OBP Per Salary  \n",
       "32169    4.120879e-07  \n",
       "32260    6.850497e-07  \n",
       "32212    5.858500e-07  \n",
       "32257    7.227223e-07  \n",
       "32217    6.570260e-07  \n",
       "31977    6.534783e-07  \n",
       "31394    6.953058e-07  \n",
       "31884    7.064743e-07  \n",
       "32283    7.164814e-07  "
      ]
     },
     "execution_count": 97,
     "metadata": {},
     "output_type": "execute_result"
    }
   ],
   "source": [
    "best_players[['nameFirst', 'nameLast', 'Position', 'AB', 'RBI', 'salary', 'OBP', 'OBP Per Salary']]"
   ]
  },
  {
   "cell_type": "code",
   "execution_count": null,
   "metadata": {
    "collapsed": true
   },
   "outputs": [],
   "source": []
  }
 ],
 "metadata": {
  "kernelspec": {
   "display_name": "Python 3",
   "language": "python",
   "name": "python3"
  },
  "language_info": {
   "codemirror_mode": {
    "name": "ipython",
    "version": 3
   },
   "file_extension": ".py",
   "mimetype": "text/x-python",
   "name": "python",
   "nbconvert_exporter": "python",
   "pygments_lexer": "ipython3",
   "version": "3.5.1"
  }
 },
 "nbformat": 4,
 "nbformat_minor": 0
}
